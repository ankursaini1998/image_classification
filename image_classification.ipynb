{
 "cells": [
  {
   "cell_type": "code",
   "execution_count": 5,
   "metadata": {},
   "outputs": [],
   "source": [
    "import numpy as np\n",
    "from matplotlib import pyplot as plt\n",
    "import os\n",
    "from pathlib import Path\n",
    "import cv2"
   ]
  },
  {
   "cell_type": "code",
   "execution_count": 6,
   "metadata": {},
   "outputs": [],
   "source": [
    "p = Path(\"/../../users/ankur/desktop/ml/flowers\")\n",
    "dirs = p.glob(\"*\")\n",
    "\n",
    "labels_dict = {\"daisy\":0,\n",
    "              \"dandelion\":1,\n",
    "              \"rose\":2,\n",
    "              \"sunflower\":3,\n",
    "              \"tulip\":4}\n",
    "image_data=[]\n",
    "labels=[]\n",
    "    \n",
    "for folder_dir in dirs:\n",
    "#     print(folder)\n",
    "    label = str(folder_dir).split(\"\\\\\")[-1]\n",
    "#     print(label)\n",
    " \n",
    "    for img_path in folder_dir.glob(\"*.jpg\"):\n",
    "#         print(type(img_path))\n",
    "        img_path=str(img_path).replace('\\\\','/')\n",
    "#         print(img_path)\n",
    "        img = cv2.imread(img_path)\n",
    "#         print((img))\n",
    "#         print(\"---------------------------------\")\n",
    "        img = cv2.resize(img,(64,64))\n",
    "#         print((img))\n",
    "#         plt.imshow(img)\n",
    "#         print(img.shape)\n",
    "#         img_array = image.img_to_array(img)\n",
    "        image_data.append(img)\n",
    "        labels.append(labels_dict[label])"
   ]
  },
  {
   "cell_type": "code",
   "execution_count": 7,
   "metadata": {},
   "outputs": [
    {
     "name": "stdout",
     "output_type": "stream",
     "text": [
      "4323\n",
      "4323\n"
     ]
    }
   ],
   "source": [
    "print(len(image_data))\n",
    "print(len(labels))"
   ]
  },
  {
   "cell_type": "code",
   "execution_count": 8,
   "metadata": {},
   "outputs": [
    {
     "name": "stdout",
     "output_type": "stream",
     "text": [
      "(4323, 64, 64, 3) (4323,)\n"
     ]
    }
   ],
   "source": [
    "image_data = np.array(image_data)\n",
    "labels = np.array(labels)\n",
    "print(image_data.shape,labels.shape)"
   ]
  },
  {
   "cell_type": "code",
   "execution_count": 9,
   "metadata": {},
   "outputs": [],
   "source": [
    "import random\n",
    "combined = list(zip(image_data,labels))\n",
    "random.shuffle(combined)\n",
    "\n",
    "image_data[:],labels[:] = zip(*combined)\n",
    "# plt.imshow(image_data[428])"
   ]
  },
  {
   "cell_type": "code",
   "execution_count": 25,
   "metadata": {},
   "outputs": [],
   "source": [
    "class svm:\n",
    "    def __init__(self,c=1.0):\n",
    "        self.c=c\n",
    "        self.w=0\n",
    "        self.b=0\n",
    "        \n",
    "    def hingeLoss(self,w,b,x,y):\n",
    "        loss = 0.0\n",
    "        loss += .5*np.dot(w,w.T)\n",
    "        m=x.shape[0]\n",
    "        for i in range(m):\n",
    "            ti = y[i]*(np.dot(w,x[i].T)+b)\n",
    "            loss += self.c * max(0,1-ti)\n",
    "#             print(loss)\n",
    "            \n",
    "        return loss[0][0]\n",
    "    \n",
    "    def fit(self,x,y,batch_size=100,learning_rate=0.00001,maxItr=5000):\n",
    "        no_of_features = x.shape[1]\n",
    "        no_of_samples = x.shape[0]\n",
    "        \n",
    "        n=learning_rate\n",
    "        c=self.c\n",
    "#         batch_size=100\n",
    "        w=np.zeros((1,no_of_features))\n",
    "        b=0\n",
    "        \n",
    "#         print(self.hingeLoss(w,b,x,y)[0][0])\n",
    "        \n",
    "        losses=[]\n",
    "        \n",
    "        for i in range(maxItr):\n",
    "            \n",
    "            l = self.hingeLoss(w,b,x,y)\n",
    "#             print(l)\n",
    "            losses.append(l)\n",
    "            ids = np.arange(no_of_samples)\n",
    "            np.random.shuffle(ids)\n",
    "            for batch_start in range(0,no_of_samples,batch_size):\n",
    "                gradw=0\n",
    "                gradb=0\n",
    "                \n",
    "                for j in range(batch_start,batch_start+batch_size):\n",
    "                    if j<no_of_samples:\n",
    "                        i=ids[j]\n",
    "                    \n",
    "                        ti = y[i]*(np.dot(w,x[i].T)+b)\n",
    "                        \n",
    "                        if(ti>1):\n",
    "                            gradw += 0\n",
    "                            gradb += 0\n",
    "                        else:\n",
    "                            gradw += c*y[i]*x[i]\n",
    "                            gradb += c*y[i]\n",
    "                            \n",
    "                w = w - n*w  + n*gradw\n",
    "                b = b + n*gradb\n",
    "                \n",
    "        self.w=w\n",
    "        self.b=b\n",
    "        return w,b,losses\n",
    "    "
   ]
  },
  {
   "cell_type": "code",
   "execution_count": 26,
   "metadata": {},
   "outputs": [
    {
     "name": "stdout",
     "output_type": "stream",
     "text": [
      "(4323, 12288)\n"
     ]
    }
   ],
   "source": [
    "m = image_data.shape[0]\n",
    "image_data = image_data.reshape(m,-1)\n",
    "print(image_data.shape)"
   ]
  },
  {
   "cell_type": "code",
   "execution_count": 27,
   "metadata": {},
   "outputs": [
    {
     "name": "stdout",
     "output_type": "stream",
     "text": [
      "5\n"
     ]
    }
   ],
   "source": [
    "classes = len(np.unique(labels))\n",
    "print(classes)"
   ]
  },
  {
   "cell_type": "code",
   "execution_count": 28,
   "metadata": {},
   "outputs": [],
   "source": [
    "def classWiseData(x,y):\n",
    "    data = {}\n",
    "    \n",
    "    for i in range(classes):\n",
    "        data[i]=[]\n",
    "        \n",
    "    for i in range(x.shape[0]):\n",
    "        data[y[i]].append(x[i])\n",
    "        \n",
    "    for k in data.keys():\n",
    "        data[k] = np.array(data[k])\n",
    "        \n",
    "    return data"
   ]
  },
  {
   "cell_type": "code",
   "execution_count": 29,
   "metadata": {},
   "outputs": [],
   "source": [
    "data = classWiseData(image_data,labels)"
   ]
  },
  {
   "cell_type": "code",
   "execution_count": 30,
   "metadata": {},
   "outputs": [],
   "source": [
    "def getDataPairForSvm(d1,d2):\n",
    "    \n",
    "    l1,l2 = d1.shape[0],d2.shape[0]\n",
    "    \n",
    "    samples = l1+l2\n",
    "    features = d1.shape[1]\n",
    "    \n",
    "    data_pair = np.zeros((samples,features))\n",
    "    data_labels = np.zeros(samples)\n",
    "    \n",
    "    data_pair[:l1,:] = d1\n",
    "    data_pair[l1:,:] = d2\n",
    "    \n",
    "    data_labels[:l1] = -1\n",
    "    data_labels[l1:] = +1\n",
    "    \n",
    "    return data_pair,data_labels"
   ]
  },
  {
   "cell_type": "code",
   "execution_count": 31,
   "metadata": {},
   "outputs": [],
   "source": [
    "mySVM = svm()\n",
    "def trainSVM(x,y):\n",
    "    \n",
    "    svm_classifiers = {}\n",
    "    for i in range(classes):\n",
    "        svm_classifiers[i] = {}\n",
    "        for j in range(i+1,classes):\n",
    "            xpair,ypair = getDataPairForSvm(data[i],data[j])\n",
    "            wts,b,loss = mySVM.fit(xpair,ypair)\n",
    "            svm_classifiers[i][j] = (wts,b)\n",
    "#             plt.plot(loss)\n",
    "#             plt.show() \n",
    "    return svm_classifiers"
   ]
  },
  {
   "cell_type": "code",
   "execution_count": 32,
   "metadata": {},
   "outputs": [],
   "source": [
    "svm_classifiers = trainSVM(image_data,labels)"
   ]
  },
  {
   "cell_type": "code",
   "execution_count": 33,
   "metadata": {},
   "outputs": [
    {
     "name": "stdout",
     "output_type": "stream",
     "text": [
      "(1, 12288)\n"
     ]
    }
   ],
   "source": [
    "print(svm_classifiers[0][1][0].shape)"
   ]
  },
  {
   "cell_type": "code",
   "execution_count": 34,
   "metadata": {},
   "outputs": [],
   "source": [
    "def binaryPredict(x,w,b):\n",
    "    z = np.dot(x,w.T)+b\n",
    "    if z>=0:\n",
    "        return 1\n",
    "    else :\n",
    "        return -1"
   ]
  },
  {
   "cell_type": "code",
   "execution_count": 35,
   "metadata": {},
   "outputs": [],
   "source": [
    "def predict(x):\n",
    "    count = np.zeros(classes)\n",
    "    \n",
    "    for i in range(classes):\n",
    "        for j in range(i+1,classes):\n",
    "            w,b = svm_classifiers[i][j]\n",
    "            z = binaryPredict(x,w,b)\n",
    "            if z==1 :\n",
    "                count[j] +=1\n",
    "            else :\n",
    "                count[i] +=1\n",
    "    final_prediction = np.argmax(count)\n",
    "#     print(count)\n",
    "    return final_prediction"
   ]
  },
  {
   "cell_type": "code",
   "execution_count": 36,
   "metadata": {},
   "outputs": [
    {
     "name": "stdout",
     "output_type": "stream",
     "text": [
      "2\n",
      "2\n"
     ]
    }
   ],
   "source": [
    "# print(image_data.shape)\n",
    "print(predict(image_data[1000]))\n",
    "print(labels[1000])"
   ]
  },
  {
   "cell_type": "code",
   "execution_count": 37,
   "metadata": {},
   "outputs": [],
   "source": [
    "def accuracy(x,y):\n",
    "    count =0\n",
    "    for i in range(x.shape[0]):\n",
    "        prediction = predict(x[i])\n",
    "        if(prediction == y[i]):\n",
    "            count +=1\n",
    "    return count/x.shape[0]\n",
    "\n",
    "    "
   ]
  },
  {
   "cell_type": "code",
   "execution_count": 38,
   "metadata": {},
   "outputs": [
    {
     "data": {
      "text/plain": [
       "0.6081424936386769"
      ]
     },
     "execution_count": 38,
     "metadata": {},
     "output_type": "execute_result"
    }
   ],
   "source": [
    "accuracy(image_data,labels)"
   ]
  },
  {
   "cell_type": "markdown",
   "metadata": {},
   "source": [
    "### SKlearn"
   ]
  },
  {
   "cell_type": "code",
   "execution_count": 24,
   "metadata": {},
   "outputs": [
    {
     "data": {
      "text/plain": [
       "0.6294240111034004"
      ]
     },
     "execution_count": 24,
     "metadata": {},
     "output_type": "execute_result"
    }
   ],
   "source": [
    "from sklearn import svm\n",
    "svm_classifier = svm.SVC(kernel='linear',C=1.0)\n",
    "svm_classifier.fit(image_data,labels)\n",
    "svm_classifier.score(image_data,labels)"
   ]
  },
  {
   "cell_type": "code",
   "execution_count": null,
   "metadata": {},
   "outputs": [],
   "source": []
  }
 ],
 "metadata": {
  "kernelspec": {
   "display_name": "Python 3",
   "language": "python",
   "name": "python3"
  },
  "language_info": {
   "codemirror_mode": {
    "name": "ipython",
    "version": 3
   },
   "file_extension": ".py",
   "mimetype": "text/x-python",
   "name": "python",
   "nbconvert_exporter": "python",
   "pygments_lexer": "ipython3",
   "version": "3.7.0"
  }
 },
 "nbformat": 4,
 "nbformat_minor": 2
}
